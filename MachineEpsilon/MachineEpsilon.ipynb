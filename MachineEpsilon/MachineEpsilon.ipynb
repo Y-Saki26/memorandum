{
 "cells": [
  {
   "cell_type": "markdown",
   "id": "29e6b983",
   "metadata": {},
   "source": [
    "## 計算機イプシロンの求め方"
   ]
  },
  {
   "cell_type": "markdown",
   "id": "aa11bd32",
   "metadata": {},
   "source": [
    "計算機イプシロンとは「浮動小数点数において、「1より大きい最小の数」と1との差」([計算機イプシロン - Wikipedia](https://ja.wikipedia.org/wiki/%E8%A8%88%E7%AE%97%E6%A9%9F%E3%82%A4%E3%83%97%E3%82%B7%E3%83%AD%E3%83%B3))である．  \n",
    "「1より大きい最小の数」は2進数で $1.00\\dots01_{(2)}$ と表せるので，浮動小数点数の仮数部のビット数を $b$ として $2^{-b}$ である．"
   ]
  },
  {
   "cell_type": "code",
   "execution_count": 1,
   "id": "3ecfcb72",
   "metadata": {},
   "outputs": [
    {
     "name": "stdout",
     "output_type": "stream",
     "text": [
      "1 == 1 + 2^-52: False\n",
      "1 == 1 + 2^-53: True\n"
     ]
    }
   ],
   "source": [
    "print(\"1 == 1 + 2^-52:\", 1 == 1 + 2**-52)\n",
    "print(\"1 == 1 + 2^-53:\", 1 == 1 + 2**-53)"
   ]
  },
  {
   "cell_type": "markdown",
   "id": "a9620375",
   "metadata": {},
   "source": [
    "## floatのepsを求める"
   ]
  },
  {
   "cell_type": "markdown",
   "id": "36fc1950",
   "metadata": {},
   "source": [
    "2のべきなので1との差を半半にしていけばよい"
   ]
  },
  {
   "cell_type": "code",
   "execution_count": 2,
   "id": "23d8c7a8",
   "metadata": {},
   "outputs": [
    {
     "name": "stdout",
     "output_type": "stream",
     "text": [
      "2.220446049250313e-16, 2^-52.0\n"
     ]
    }
   ],
   "source": [
    "import math\n",
    "\n",
    "def machine_eps(one):\n",
    "    one_eps = one + one\n",
    "    for b in range(10**3):\n",
    "        if one == (one + one_eps) / 2:\n",
    "            eps = one_eps - one\n",
    "            return eps\n",
    "        one_eps = (one + one_eps) / 2\n",
    "\n",
    "eps = machine_eps(1)\n",
    "print(f\"{eps}, 2^{math.log2(eps)}\")"
   ]
  },
  {
   "cell_type": "markdown",
   "id": "00d2c65a",
   "metadata": {},
   "source": [
    "システム値とも一致する"
   ]
  },
  {
   "cell_type": "code",
   "execution_count": 3,
   "id": "882bc336",
   "metadata": {},
   "outputs": [
    {
     "data": {
      "text/plain": [
       "2.220446049250313e-16"
      ]
     },
     "execution_count": 3,
     "metadata": {},
     "output_type": "execute_result"
    }
   ],
   "source": [
    "import sys\n",
    "sys.float_info.epsilon"
   ]
  },
  {
   "cell_type": "markdown",
   "id": "36eece38",
   "metadata": {},
   "source": [
    "2のべきではない場合(そんなこと無いと思うが)，二分探索でも良いかもしれない．結果は同じ．"
   ]
  },
  {
   "cell_type": "code",
   "execution_count": 4,
   "id": "217f25be",
   "metadata": {},
   "outputs": [
    {
     "name": "stdout",
     "output_type": "stream",
     "text": [
      "2.220446049250313e-16, 2^-52.0\n"
     ]
    }
   ],
   "source": [
    "def machine_eps_bin(one):\n",
    "    lower = one\n",
    "    upper = one + one\n",
    "    middle = (lower + upper) / 2\n",
    "    while lower!=middle!=upper:\n",
    "        one_eps = middle\n",
    "        if one == middle:\n",
    "            lower = middle\n",
    "        else:\n",
    "            upper = middle\n",
    "        middle = (lower + upper) / 2\n",
    "    eps = one_eps - one\n",
    "    return eps\n",
    "\n",
    "eps = machine_eps_bin(1)\n",
    "print(f\"{eps}, 2^{math.log2(eps)}\")"
   ]
  },
  {
   "cell_type": "markdown",
   "id": "26e47453",
   "metadata": {},
   "source": [
    "## 同じようで違う定義"
   ]
  },
  {
   "cell_type": "markdown",
   "id": "3e6e2a83",
   "metadata": {},
   "source": [
    "「$1+x\\neq 1$ となる最小の $x$」と同値であるかのような定義や説明がされることがあるが，実際は加算結果が桁落ちした際の丸め処理によっては一致しない．  \n",
    "実際，Pythonでこの定義に基づいて計算を行うと正しい値の半分になる．  \n",
    "参考：[計算機イプシロンのこと - 再帰の反復blog](https://lemniscus.hatenablog.com/entry/20090816/1250441897)"
   ]
  },
  {
   "cell_type": "code",
   "execution_count": 5,
   "id": "366d0432",
   "metadata": {},
   "outputs": [
    {
     "name": "stdout",
     "output_type": "stream",
     "text": [
      "1.1102230246251568e-16, 2^-53.0\n"
     ]
    }
   ],
   "source": [
    "def machine_eps_diff(one):\n",
    "    lower = one * 0\n",
    "    upper = one\n",
    "    middle = (lower + upper) / 2\n",
    "    while lower!=middle!=upper:\n",
    "        eps = middle\n",
    "        if one == one + eps:\n",
    "            lower = middle\n",
    "        else:\n",
    "            upper = middle\n",
    "        middle = (lower + upper) / 2\n",
    "    return eps\n",
    "\n",
    "eps = machine_eps_diff(1)\n",
    "print(f\"{eps}, 2^{math.log2(eps)}\")"
   ]
  },
  {
   "cell_type": "markdown",
   "id": "3670b0e9",
   "metadata": {},
   "source": [
    "## その他の精度の浮動小数点数のeps"
   ]
  },
  {
   "cell_type": "markdown",
   "id": "fa6fc23a",
   "metadata": {},
   "source": [
    "numpy を使って半精度から4倍精度まで確かめる"
   ]
  },
  {
   "cell_type": "code",
   "execution_count": 6,
   "id": "8a103de4",
   "metadata": {},
   "outputs": [],
   "source": [
    "import numpy as np"
   ]
  },
  {
   "cell_type": "code",
   "execution_count": 7,
   "id": "49701e14",
   "metadata": {
    "scrolled": true
   },
   "outputs": [
    {
     "name": "stdout",
     "output_type": "stream",
     "text": [
      "type    :            eps\n",
      "float16 : 9.76562500e-04, 2^-10.0\n",
      "float32 : 1.19209290e-07, 2^-23.0\n",
      "float64 : 2.22044605e-16, 2^-52.0\n",
      "float128: 1.08420217e-19, 2^-63.0\n"
     ]
    }
   ],
   "source": [
    "print(f\"{'type':<8}: {'eps':>14}\")\n",
    "for t in [np.float16, np.float32, np.float64, np.float128]:\n",
    "    eps = machine_eps(np.array([1], dtype=t))\n",
    "    print(f\"{str(t().dtype):<8}: {eps[0]:.8e}, 2^{math.log2(eps)}\")"
   ]
  },
  {
   "cell_type": "markdown",
   "id": "1a08eb0c",
   "metadata": {},
   "source": [
    "システム値とも一致する"
   ]
  },
  {
   "cell_type": "code",
   "execution_count": 8,
   "id": "32cd65e2",
   "metadata": {},
   "outputs": [
    {
     "name": "stdout",
     "output_type": "stream",
     "text": [
      "type    :            eps\n",
      "float16 : 9.76562500e-04\n",
      "float32 : 1.19209290e-07\n",
      "float64 : 2.22044605e-16\n",
      "float128: 1.08420217e-19\n"
     ]
    }
   ],
   "source": [
    "print(f\"{'type':<8}: {'eps':>14}\")\n",
    "for t in [np.float16, np.float32, np.float64, np.float128]:\n",
    "    print(f\"{str(t().dtype):<8}: {np.finfo(t).eps:.8e}\")"
   ]
  },
  {
   "cell_type": "markdown",
   "id": "ccdc70be",
   "metadata": {},
   "source": [
    "スカラーを取り出して計算すると4倍精度以外は`float`扱いになる？"
   ]
  },
  {
   "cell_type": "code",
   "execution_count": 9,
   "id": "1b9aca6c",
   "metadata": {
    "scrolled": true
   },
   "outputs": [
    {
     "name": "stdout",
     "output_type": "stream",
     "text": [
      "type    :            eps\n",
      "float16 : 2.22044605e-16, 2^-52.0\n",
      "float32 : 2.22044605e-16, 2^-52.0\n",
      "float64 : 2.22044605e-16, 2^-52.0\n",
      "float128: 1.08420217e-19, 2^-63.0\n"
     ]
    }
   ],
   "source": [
    "print(f\"{'type':<8}: {'eps':>14}\")\n",
    "for t in [np.float16, np.float32, np.float64, np.float128]:\n",
    "    eps = machine_eps(np.array([1], dtype=t)[0])\n",
    "    print(f\"{str(t().__class__.__name__):<8}: {eps:.8e}, 2^{math.log2(eps)}\")"
   ]
  },
  {
   "cell_type": "markdown",
   "id": "e3dd4bc0",
   "metadata": {},
   "source": [
    "2分探索した場合も同様"
   ]
  },
  {
   "cell_type": "code",
   "execution_count": 10,
   "id": "a90cb14a",
   "metadata": {},
   "outputs": [
    {
     "name": "stdout",
     "output_type": "stream",
     "text": [
      "np.array([1], dtype=type)\n",
      "\ttype    :            eps\n",
      "\tfloat16 : 9.76562500e-04, 2^-10.0\n",
      "\tfloat32 : 1.19209290e-07, 2^-23.0\n",
      "\tfloat64 : 2.22044605e-16, 2^-52.0\n",
      "\tfloat128: 1.08420217e-19, 2^-63.0\n",
      "np.array([1], dtype=type)[0]\n",
      "\ttype    :            eps\n",
      "\tfloat16 : 2.22044605e-16, 2^-52.0\n",
      "\tfloat32 : 2.22044605e-16, 2^-52.0\n",
      "\tfloat64 : 2.22044605e-16, 2^-52.0\n",
      "\tfloat128: 1.08420217e-19, 2^-63.0\n"
     ]
    }
   ],
   "source": [
    "print(\"np.array([1], dtype=type)\")\n",
    "print(f\"\\t{'type':<8}: {'eps':>14}\")\n",
    "for t in [np.float16, np.float32, np.float64, np.float128]:\n",
    "    eps = machine_eps_bin(np.array([1], dtype=t))\n",
    "    print(f\"\\t{str(t().dtype):<8}: {eps[0]:.8e}, 2^{math.log2(eps)}\")\n",
    "\n",
    "print(\"np.array([1], dtype=type)[0]\")\n",
    "print(f\"\\t{'type':<8}: {'eps':>14}\")\n",
    "for t in [np.float16, np.float32, np.float64, np.float128]:\n",
    "    eps = machine_eps_bin(np.array([1], dtype=t)[0])\n",
    "    print(f\"\\t{str(t().__class__.__name__):<8}: {eps:.8e}, 2^{math.log2(eps)}\")"
   ]
  },
  {
   "cell_type": "markdown",
   "id": "51c5d375",
   "metadata": {},
   "source": [
    "floatと同様に，1との差で計算すると正しい値の半分になる．"
   ]
  },
  {
   "cell_type": "code",
   "execution_count": 11,
   "id": "7fbb5c27",
   "metadata": {},
   "outputs": [
    {
     "name": "stdout",
     "output_type": "stream",
     "text": [
      "np.array([1], dtype=type)\n",
      "\ttype    :            eps\n",
      "\tfloat16 : 4.88758087e-04, 2^-10.998591805607191\n",
      "\tfloat32 : 5.96046519e-08, 2^-23.99999982801736\n",
      "\tfloat64 : 1.11022302e-16, 2^-53.0\n",
      "\tfloat128: 5.42101086e-20, 2^-64.0\n",
      "np.array([1], dtype=type)[0]\n",
      "\ttype    :            eps\n",
      "\tfloat16 : 1.11022302e-16, 2^-53.0\n",
      "\tfloat32 : 1.11022302e-16, 2^-53.0\n",
      "\tfloat64 : 1.11022302e-16, 2^-53.0\n",
      "\tfloat128: 5.42101086e-20, 2^-64.0\n"
     ]
    }
   ],
   "source": [
    "print(\"np.array([1], dtype=type)\")\n",
    "print(f\"\\t{'type':<8}: {'eps':>14}\")\n",
    "for t in [np.float16, np.float32, np.float64, np.float128]:\n",
    "    eps = machine_eps_diff(np.array([1], dtype=t))\n",
    "    print(f\"\\t{str(t().dtype):<8}: {eps[0]:.8e}, 2^{math.log2(eps)}\")\n",
    "\n",
    "print(\"np.array([1], dtype=type)[0]\")\n",
    "print(f\"\\t{'type':<8}: {'eps':>14}\")\n",
    "for t in [np.float16, np.float32, np.float64, np.float128]:\n",
    "    eps = machine_eps_diff(np.array([1], dtype=t)[0])\n",
    "    print(f\"\\t{str(t().__class__.__name__):<8}: {eps:.8e}, 2^{math.log2(eps)}\")"
   ]
  },
  {
   "cell_type": "markdown",
   "id": "24d529d5",
   "metadata": {},
   "source": [
    "## 相対誤差の評価"
   ]
  },
  {
   "cell_type": "markdown",
   "id": "cfc19152",
   "metadata": {},
   "source": [
    "相対誤差を評価するとき，基準が2のベキならepsと一致するが，それ以外の場合はズレる"
   ]
  },
  {
   "cell_type": "code",
   "execution_count": 12,
   "id": "5ce0d180",
   "metadata": {
    "scrolled": false
   },
   "outputs": [
    {
     "name": "stdout",
     "output_type": "stream",
     "text": [
      "base=2^-1\n",
      "\ttype    :            eps\n",
      "\tfloat16 : 9.76562500e-04, 2^-10.0\n",
      "\tfloat32 : 1.19209290e-07, 2^-23.0\n",
      "\tfloat64 : 2.22044605e-16, 2^-52.0\n",
      "\tfloat128: 1.08420217e-19, 2^-63.0\n",
      "base=2^-4\n",
      "\ttype    :            eps\n",
      "\tfloat16 : 9.76562500e-04, 2^-10.0\n",
      "\tfloat32 : 1.19209290e-07, 2^-23.0\n",
      "\tfloat64 : 2.22044605e-16, 2^-52.0\n",
      "\tfloat128: 1.08420217e-19, 2^-63.0\n",
      "base=2^4\n",
      "\ttype    :            eps\n",
      "\tfloat16 : 9.76562500e-04, 2^-10.0\n",
      "\tfloat32 : 1.19209290e-07, 2^-23.0\n",
      "\tfloat64 : 2.22044605e-16, 2^-52.0\n",
      "\tfloat128: 1.08420217e-19, 2^-63.0\n",
      "base=5\n",
      "\ttype    :            eps\n",
      "\tfloat16 : 7.81059265e-04, 2^-10.322280358358991\n",
      "\tfloat32 : 9.53674331e-08, 2^-23.321928073389532\n",
      "\tfloat64 : 1.77635684e-16, 2^-52.32192809488736\n",
      "\tfloat128: 8.67361738e-20, 2^-63.32192809488736\n",
      "base=1234\n",
      "\ttype    :            eps\n",
      "\tfloat32 : 9.89224560e-08, 2^-23.269126700311347\n",
      "\tfloat32 : 9.89224560e-08, 2^-23.269126700311347\n",
      "\tfloat64 : 1.84257436e-16, 2^-52.269126679149416\n",
      "\tfloat128: 8.99694509e-20, 2^-63.269126679149416\n"
     ]
    }
   ],
   "source": [
    "def rel_machine_eps(one, base):\n",
    "    lower = base\n",
    "    upper = base + base\n",
    "    middle = (lower + upper) / 2\n",
    "    while lower!=middle!=upper:\n",
    "        base_eps = middle\n",
    "        if (base - middle) / base == 0:\n",
    "            lower = middle\n",
    "        else:\n",
    "            upper = middle\n",
    "        middle = (lower + upper) / 2\n",
    "    eps = (base_eps - base) / base\n",
    "    return eps\n",
    "\n",
    "print(\"base=2^-1\")\n",
    "print(f\"\\t{'type':<8}: {'eps':>14}\")\n",
    "for t in [np.float16, np.float32, np.float64, np.float128]:\n",
    "    one = np.array([1], dtype=t)\n",
    "    base = one / 2\n",
    "    eps = rel_machine_eps(one, base)\n",
    "    print(f\"\\t{str(base.dtype):<8}: {eps[0]:.8e}, 2^{math.log2(eps)}\")\n",
    "\n",
    "print(\"base=2^-4\")\n",
    "print(f\"\\t{'type':<8}: {'eps':>14}\")\n",
    "for t in [np.float16, np.float32, np.float64, np.float128]:\n",
    "    one = np.array([1], dtype=t)\n",
    "    base = one / (1 << 4)\n",
    "    eps = rel_machine_eps(one, base)\n",
    "    print(f\"\\t{str(base.dtype):<8}: {eps[0]:.8e}, 2^{math.log2(eps)}\")\n",
    "\n",
    "print(\"base=2^4\")\n",
    "print(f\"\\t{'type':<8}: {'eps':>14}\")\n",
    "for t in [np.float16, np.float32, np.float64, np.float128]:\n",
    "    one = np.array([1], dtype=t)\n",
    "    base = one * (1 << 4)\n",
    "    eps = rel_machine_eps(one, base)\n",
    "    print(f\"\\t{str(base.dtype):<8}: {eps[0]:.8e}, 2^{math.log2(eps)}\")\n",
    "\n",
    "print(\"base=5\")\n",
    "print(f\"\\t{'type':<8}: {'eps':>14}\")\n",
    "for t in [np.float16, np.float32, np.float64, np.float128]:\n",
    "    one = np.array([1], dtype=t)\n",
    "    base = one * 5\n",
    "    eps = rel_machine_eps(one, base)\n",
    "    print(f\"\\t{str(base.dtype):<8}: {eps[0]:.8e}, 2^{math.log2(eps)}\")\n",
    "\n",
    "print(\"base=1234\")\n",
    "print(f\"\\t{'type':<8}: {'eps':>14}\")\n",
    "for t in [np.float16, np.float32, np.float64, np.float128]:\n",
    "    one = np.array([1], dtype=t)\n",
    "    base = one * 1234\n",
    "    eps = rel_machine_eps(one, base)\n",
    "    print(f\"\\t{str(base.dtype):<8}: {eps[0]:.8e}, 2^{math.log2(eps)}\")"
   ]
  },
  {
   "cell_type": "markdown",
   "id": "2d9f1a1c",
   "metadata": {},
   "source": [
    "### おまけ"
   ]
  },
  {
   "cell_type": "markdown",
   "id": "8b15d08e",
   "metadata": {},
   "source": [
    "decimal でも計算できるが，浮動小数ではないので特に意味はない"
   ]
  },
  {
   "cell_type": "code",
   "execution_count": 13,
   "id": "a56c0af9",
   "metadata": {},
   "outputs": [
    {
     "name": "stdout",
     "output_type": "stream",
     "text": [
      "Decimal : 1.00000000e-27, 2^-89.69205856195879\n"
     ]
    }
   ],
   "source": [
    "from decimal import Decimal\n",
    "eps = machine_eps_bin(Decimal(1))\n",
    "print(f\"{str(eps.__class__.__name__):<8}: {eps:.8e}, 2^{math.log2(eps)}\")"
   ]
  },
  {
   "cell_type": "code",
   "execution_count": null,
   "id": "486fd25c",
   "metadata": {},
   "outputs": [],
   "source": []
  }
 ],
 "metadata": {
  "kernelspec": {
   "display_name": "Python 3 (ipykernel)",
   "language": "python",
   "name": "python3"
  },
  "language_info": {
   "codemirror_mode": {
    "name": "ipython",
    "version": 3
   },
   "file_extension": ".py",
   "mimetype": "text/x-python",
   "name": "python",
   "nbconvert_exporter": "python",
   "pygments_lexer": "ipython3",
   "version": "3.9.7"
  }
 },
 "nbformat": 4,
 "nbformat_minor": 5
}
